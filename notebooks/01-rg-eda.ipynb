{
 "cells": [
  {
   "cell_type": "code",
   "execution_count": null,
   "metadata": {
    "_cell_guid": "b1076dfc-b9ad-4769-8c92-a6c4dae69d19",
    "_uuid": "8f2839f25d086af736a60e9eeb907d3b93b6e0e5",
    "execution": {
     "iopub.execute_input": "2025-10-01T20:00:23.212901Z",
     "iopub.status.busy": "2025-10-01T20:00:23.212333Z",
     "iopub.status.idle": "2025-10-01T20:00:24.998839Z",
     "shell.execute_reply": "2025-10-01T20:00:24.997648Z",
     "shell.execute_reply.started": "2025-10-01T20:00:23.212851Z"
    },
    "trusted": true
   },
   "outputs": [],
   "source": [
    "import pandas as pd\n",
    "from sklearn.model_selection import train_test_split\n",
    "import seaborn as sns\n",
    "\n",
    "from accident_risk.config import RAW_TRAIN_PATH"
   ]
  },
  {
   "cell_type": "code",
   "execution_count": null,
   "metadata": {
    "execution": {
     "iopub.execute_input": "2025-10-01T20:00:25.008372Z",
     "iopub.status.busy": "2025-10-01T20:00:25.008033Z",
     "iopub.status.idle": "2025-10-01T20:00:26.289196Z",
     "shell.execute_reply": "2025-10-01T20:00:26.288263Z",
     "shell.execute_reply.started": "2025-10-01T20:00:25.008343Z"
    },
    "trusted": true
   },
   "outputs": [],
   "source": [
    "data = pd.read_csv(\"../\" + RAW_TRAIN_PATH)"
   ]
  },
  {
   "cell_type": "code",
   "execution_count": null,
   "metadata": {
    "execution": {
     "iopub.execute_input": "2025-10-01T20:00:26.292282Z",
     "iopub.status.busy": "2025-10-01T20:00:26.291946Z",
     "iopub.status.idle": "2025-10-01T20:00:26.341232Z",
     "shell.execute_reply": "2025-10-01T20:00:26.339992Z",
     "shell.execute_reply.started": "2025-10-01T20:00:26.292260Z"
    },
    "trusted": true
   },
   "outputs": [],
   "source": [
    "train, validation = train_test_split(data, shuffle=False)"
   ]
  },
  {
   "cell_type": "code",
   "execution_count": null,
   "metadata": {
    "execution": {
     "iopub.execute_input": "2025-10-01T20:00:26.342504Z",
     "iopub.status.busy": "2025-10-01T20:00:26.342223Z",
     "iopub.status.idle": "2025-10-01T20:00:26.348900Z",
     "shell.execute_reply": "2025-10-01T20:00:26.347518Z",
     "shell.execute_reply.started": "2025-10-01T20:00:26.342481Z"
    },
    "trusted": true
   },
   "outputs": [],
   "source": [
    "print(\"Train len: \", len(train))\n",
    "print(\"Validation len: \", len(validation))\n"
   ]
  },
  {
   "cell_type": "markdown",
   "metadata": {},
   "source": [
    "# EDA"
   ]
  },
  {
   "cell_type": "code",
   "execution_count": null,
   "metadata": {
    "execution": {
     "iopub.execute_input": "2025-10-01T20:00:26.350220Z",
     "iopub.status.busy": "2025-10-01T20:00:26.349915Z",
     "iopub.status.idle": "2025-10-01T20:00:26.497787Z",
     "shell.execute_reply": "2025-10-01T20:00:26.496602Z",
     "shell.execute_reply.started": "2025-10-01T20:00:26.350198Z"
    },
    "trusted": true
   },
   "outputs": [],
   "source": [
    "train.info()"
   ]
  },
  {
   "cell_type": "markdown",
   "metadata": {},
   "source": [
    "## Single variable exploration"
   ]
  },
  {
   "cell_type": "code",
   "execution_count": null,
   "metadata": {
    "execution": {
     "iopub.execute_input": "2025-10-01T20:00:26.498958Z",
     "iopub.status.busy": "2025-10-01T20:00:26.498703Z",
     "iopub.status.idle": "2025-10-01T20:00:27.000648Z",
     "shell.execute_reply": "2025-10-01T20:00:26.999108Z",
     "shell.execute_reply.started": "2025-10-01T20:00:26.498939Z"
    },
    "trusted": true
   },
   "outputs": [],
   "source": [
    "# categorical variable\n",
    "train[\"road_type\"].value_counts().plot.bar()"
   ]
  },
  {
   "cell_type": "code",
   "execution_count": null,
   "metadata": {
    "execution": {
     "iopub.execute_input": "2025-10-01T20:00:27.002024Z",
     "iopub.status.busy": "2025-10-01T20:00:27.001653Z",
     "iopub.status.idle": "2025-10-01T20:00:27.170769Z",
     "shell.execute_reply": "2025-10-01T20:00:27.169848Z",
     "shell.execute_reply.started": "2025-10-01T20:00:27.001977Z"
    },
    "trusted": true
   },
   "outputs": [],
   "source": [
    "# ordinal variable\n",
    "train[\"num_lanes\"].value_counts().plot.bar()"
   ]
  },
  {
   "cell_type": "code",
   "execution_count": null,
   "metadata": {
    "execution": {
     "iopub.execute_input": "2025-10-01T20:00:27.172101Z",
     "iopub.status.busy": "2025-10-01T20:00:27.171760Z",
     "iopub.status.idle": "2025-10-01T20:00:27.205902Z",
     "shell.execute_reply": "2025-10-01T20:00:27.204757Z",
     "shell.execute_reply.started": "2025-10-01T20:00:27.172069Z"
    },
    "trusted": true
   },
   "outputs": [],
   "source": [
    "# continuous, values in [0, 1]\n",
    "train[\"curvature\"].describe()"
   ]
  },
  {
   "cell_type": "code",
   "execution_count": null,
   "metadata": {
    "execution": {
     "iopub.execute_input": "2025-10-01T20:00:27.209414Z",
     "iopub.status.busy": "2025-10-01T20:00:27.209109Z",
     "iopub.status.idle": "2025-10-01T20:00:37.407983Z",
     "shell.execute_reply": "2025-10-01T20:00:37.406778Z",
     "shell.execute_reply.started": "2025-10-01T20:00:27.209391Z"
    },
    "trusted": true
   },
   "outputs": [],
   "source": [
    "data[\"curvature\"].plot.kde(xlim=(0, 1))\n"
   ]
  },
  {
   "cell_type": "code",
   "execution_count": null,
   "metadata": {
    "execution": {
     "iopub.execute_input": "2025-10-01T20:00:37.408899Z",
     "iopub.status.busy": "2025-10-01T20:00:37.408661Z",
     "iopub.status.idle": "2025-10-01T20:00:37.560845Z",
     "shell.execute_reply": "2025-10-01T20:00:37.559898Z",
     "shell.execute_reply.started": "2025-10-01T20:00:37.408881Z"
    },
    "trusted": true
   },
   "outputs": [],
   "source": [
    "# discrete, few (5) distinct values\n",
    "train[\"speed_limit\"].value_counts().plot.bar()"
   ]
  },
  {
   "cell_type": "code",
   "execution_count": null,
   "metadata": {
    "execution": {
     "iopub.execute_input": "2025-10-01T20:00:37.562362Z",
     "iopub.status.busy": "2025-10-01T20:00:37.561985Z",
     "iopub.status.idle": "2025-10-01T20:00:37.755404Z",
     "shell.execute_reply": "2025-10-01T20:00:37.754456Z",
     "shell.execute_reply.started": "2025-10-01T20:00:37.562332Z"
    },
    "trusted": true
   },
   "outputs": [],
   "source": [
    "# categorical\n",
    "train[\"lighting\"].value_counts().plot.bar()"
   ]
  },
  {
   "cell_type": "code",
   "execution_count": null,
   "metadata": {
    "execution": {
     "iopub.execute_input": "2025-10-01T20:00:37.756813Z",
     "iopub.status.busy": "2025-10-01T20:00:37.756460Z",
     "iopub.status.idle": "2025-10-01T20:00:37.951024Z",
     "shell.execute_reply": "2025-10-01T20:00:37.950242Z",
     "shell.execute_reply.started": "2025-10-01T20:00:37.756782Z"
    },
    "trusted": true
   },
   "outputs": [],
   "source": [
    "# categorical\n",
    "train[\"weather\"].value_counts().plot.bar()"
   ]
  },
  {
   "cell_type": "code",
   "execution_count": null,
   "metadata": {
    "execution": {
     "iopub.execute_input": "2025-10-01T20:00:37.952505Z",
     "iopub.status.busy": "2025-10-01T20:00:37.952170Z",
     "iopub.status.idle": "2025-10-01T20:00:38.122147Z",
     "shell.execute_reply": "2025-10-01T20:00:38.120894Z",
     "shell.execute_reply.started": "2025-10-01T20:00:37.952469Z"
    },
    "trusted": true
   },
   "outputs": [],
   "source": [
    "# binary\n",
    "train[\"road_signs_present\"].value_counts().plot.bar()\n"
   ]
  },
  {
   "cell_type": "code",
   "execution_count": null,
   "metadata": {
    "execution": {
     "iopub.execute_input": "2025-10-01T20:00:38.123786Z",
     "iopub.status.busy": "2025-10-01T20:00:38.123292Z",
     "iopub.status.idle": "2025-10-01T20:00:38.290049Z",
     "shell.execute_reply": "2025-10-01T20:00:38.288879Z",
     "shell.execute_reply.started": "2025-10-01T20:00:38.123625Z"
    },
    "trusted": true
   },
   "outputs": [],
   "source": [
    "# binary\n",
    "train[\"public_road\"].value_counts().plot.bar()\n"
   ]
  },
  {
   "cell_type": "code",
   "execution_count": null,
   "metadata": {
    "execution": {
     "iopub.execute_input": "2025-10-01T20:00:38.291127Z",
     "iopub.status.busy": "2025-10-01T20:00:38.290825Z",
     "iopub.status.idle": "2025-10-01T20:00:38.479565Z",
     "shell.execute_reply": "2025-10-01T20:00:38.478570Z",
     "shell.execute_reply.started": "2025-10-01T20:00:38.291105Z"
    },
    "trusted": true
   },
   "outputs": [],
   "source": [
    "# categorical\n",
    "train[\"time_of_day\"].value_counts().plot.bar()"
   ]
  },
  {
   "cell_type": "code",
   "execution_count": null,
   "metadata": {
    "execution": {
     "iopub.execute_input": "2025-10-01T20:00:38.480749Z",
     "iopub.status.busy": "2025-10-01T20:00:38.480498Z",
     "iopub.status.idle": "2025-10-01T20:00:38.655265Z",
     "shell.execute_reply": "2025-10-01T20:00:38.654212Z",
     "shell.execute_reply.started": "2025-10-01T20:00:38.480731Z"
    },
    "trusted": true
   },
   "outputs": [],
   "source": [
    "# binary\n",
    "train[\"holiday\"].value_counts().plot.bar()"
   ]
  },
  {
   "cell_type": "code",
   "execution_count": null,
   "metadata": {
    "execution": {
     "iopub.execute_input": "2025-10-01T20:00:38.657223Z",
     "iopub.status.busy": "2025-10-01T20:00:38.656869Z",
     "iopub.status.idle": "2025-10-01T20:00:38.822602Z",
     "shell.execute_reply": "2025-10-01T20:00:38.821592Z",
     "shell.execute_reply.started": "2025-10-01T20:00:38.657199Z"
    },
    "trusted": true
   },
   "outputs": [],
   "source": [
    "# binary\n",
    "train[\"school_season\"].value_counts().plot.bar()"
   ]
  },
  {
   "cell_type": "code",
   "execution_count": null,
   "metadata": {
    "execution": {
     "iopub.execute_input": "2025-10-01T20:00:38.823988Z",
     "iopub.status.busy": "2025-10-01T20:00:38.823643Z",
     "iopub.status.idle": "2025-10-01T20:00:39.038153Z",
     "shell.execute_reply": "2025-10-01T20:00:39.037271Z",
     "shell.execute_reply.started": "2025-10-01T20:00:38.823962Z"
    },
    "trusted": true
   },
   "outputs": [],
   "source": [
    "# counts/discrete, few distinct values (8)\n",
    "train[\"num_reported_accidents\"].hist(bins=7)"
   ]
  },
  {
   "cell_type": "code",
   "execution_count": null,
   "metadata": {
    "execution": {
     "iopub.execute_input": "2025-10-01T20:00:39.039445Z",
     "iopub.status.busy": "2025-10-01T20:00:39.039202Z",
     "iopub.status.idle": "2025-10-01T20:00:39.050415Z",
     "shell.execute_reply": "2025-10-01T20:00:39.049099Z",
     "shell.execute_reply.started": "2025-10-01T20:00:39.039427Z"
    },
    "trusted": true
   },
   "outputs": [],
   "source": [
    "train[\"num_reported_accidents\"].value_counts()"
   ]
  },
  {
   "cell_type": "code",
   "execution_count": null,
   "metadata": {
    "execution": {
     "iopub.execute_input": "2025-10-01T20:00:39.052454Z",
     "iopub.status.busy": "2025-10-01T20:00:39.051632Z",
     "iopub.status.idle": "2025-10-01T20:00:39.094166Z",
     "shell.execute_reply": "2025-10-01T20:00:39.093355Z",
     "shell.execute_reply.started": "2025-10-01T20:00:39.052428Z"
    },
    "trusted": true
   },
   "outputs": [],
   "source": [
    "# target variable, accident risk probability [0, 1]\n",
    "train[\"accident_risk\"].describe()"
   ]
  },
  {
   "cell_type": "code",
   "execution_count": null,
   "metadata": {
    "execution": {
     "iopub.execute_input": "2025-10-01T20:00:39.095698Z",
     "iopub.status.busy": "2025-10-01T20:00:39.095440Z",
     "iopub.status.idle": "2025-10-01T20:00:47.012866Z",
     "shell.execute_reply": "2025-10-01T20:00:47.011708Z",
     "shell.execute_reply.started": "2025-10-01T20:00:39.095678Z"
    },
    "trusted": true
   },
   "outputs": [],
   "source": [
    "# looks normally distributed\n",
    "train[\"accident_risk\"].plot.kde()"
   ]
  },
  {
   "cell_type": "code",
   "execution_count": null,
   "metadata": {
    "execution": {
     "iopub.execute_input": "2025-10-01T20:00:47.014114Z",
     "iopub.status.busy": "2025-10-01T20:00:47.013811Z",
     "iopub.status.idle": "2025-10-01T20:00:47.048016Z",
     "shell.execute_reply": "2025-10-01T20:00:47.047077Z",
     "shell.execute_reply.started": "2025-10-01T20:00:47.014092Z"
    },
    "trusted": true
   },
   "outputs": [],
   "source": [
    "from scipy.stats import normaltest\n",
    "\n",
    "stat, p = normaltest(train[\"accident_risk\"])\n",
    "\n",
    "# if p-value < 0.05, we reject the null hypothesis that the data is normally distributed\n",
    "print(f'Stat={stat:.3f}, p={p:.3f}')"
   ]
  },
  {
   "cell_type": "code",
   "execution_count": null,
   "metadata": {
    "execution": {
     "iopub.execute_input": "2025-10-01T20:00:47.049629Z",
     "iopub.status.busy": "2025-10-01T20:00:47.049130Z",
     "iopub.status.idle": "2025-10-01T20:00:48.202189Z",
     "shell.execute_reply": "2025-10-01T20:00:48.201077Z",
     "shell.execute_reply.started": "2025-10-01T20:00:47.049598Z"
    },
    "trusted": true
   },
   "outputs": [],
   "source": [
    "# double-check with a QQ plot, \n",
    "# since for large data - even small deviations may cause a false rejection\n",
    "import scipy.stats as st\n",
    "import matplotlib.pyplot as plt\n",
    "\n",
    "st.probplot(train[\"accident_risk\"], dist=\"norm\", plot=plt)\n",
    "\n",
    "# Add labels and title\n",
    "plt.title(\"Q-Q Plot\")\n",
    "plt.xlabel(\"Theoretical Quantiles\")\n",
    "plt.ylabel(\"Sample Quantiles\")\n",
    "plt.show()\n",
    "\n",
    "# roughly normal, but bounded at the tails\n",
    "# makes sense since data is in [0, 1]\n",
    "# a logit transformation might be useful"
   ]
  },
  {
   "cell_type": "code",
   "execution_count": null,
   "metadata": {
    "execution": {
     "iopub.execute_input": "2025-10-01T20:00:48.203284Z",
     "iopub.status.busy": "2025-10-01T20:00:48.202991Z",
     "iopub.status.idle": "2025-10-01T20:00:48.220390Z",
     "shell.execute_reply": "2025-10-01T20:00:48.219355Z",
     "shell.execute_reply.started": "2025-10-01T20:00:48.203263Z"
    },
    "trusted": true
   },
   "outputs": [],
   "source": [
    "import numpy as np\n",
    "\n",
    "epsilon = 1e-6\n",
    "target = train[\"accident_risk\"].values\n",
    "\n",
    "target = np.clip(target, epsilon, 1 - epsilon)\n",
    "\n",
    "target = np.log(target / (1 - target))"
   ]
  },
  {
   "cell_type": "code",
   "execution_count": null,
   "metadata": {
    "execution": {
     "iopub.execute_input": "2025-10-01T20:00:48.222270Z",
     "iopub.status.busy": "2025-10-01T20:00:48.221469Z",
     "iopub.status.idle": "2025-10-01T20:00:48.248269Z",
     "shell.execute_reply": "2025-10-01T20:00:48.246922Z",
     "shell.execute_reply.started": "2025-10-01T20:00:48.222210Z"
    },
    "trusted": true
   },
   "outputs": [],
   "source": [
    "stat, p = normaltest(target)\n",
    "\n",
    "# if p-value < 0.05, we reject the null hypothesis that the data is normally distributed\n",
    "print(f'Stat={stat:.3f}, p={p:.3f}')"
   ]
  },
  {
   "cell_type": "code",
   "execution_count": null,
   "metadata": {
    "execution": {
     "iopub.execute_input": "2025-10-01T20:00:48.249624Z",
     "iopub.status.busy": "2025-10-01T20:00:48.249336Z",
     "iopub.status.idle": "2025-10-01T20:00:49.389749Z",
     "shell.execute_reply": "2025-10-01T20:00:49.388805Z",
     "shell.execute_reply.started": "2025-10-01T20:00:48.249603Z"
    },
    "trusted": true
   },
   "outputs": [],
   "source": [
    "st.probplot(target, dist=\"norm\", plot=plt)\n",
    "\n",
    "# Add labels and title\n",
    "plt.title(\"Q-Q Plot\")\n",
    "plt.xlabel(\"Theoretical Quantiles\")\n",
    "plt.ylabel(\"Sample Quantiles\")\n",
    "plt.show()\n",
    "\n",
    "# tails are not normally distributed\n",
    "# takeaway: be careful with models that are sensitive to extreme values"
   ]
  },
  {
   "cell_type": "markdown",
   "metadata": {},
   "source": [
    "## Explore pairwise correlations "
   ]
  },
  {
   "cell_type": "code",
   "execution_count": null,
   "metadata": {
    "execution": {
     "iopub.execute_input": "2025-10-01T20:00:49.393789Z",
     "iopub.status.busy": "2025-10-01T20:00:49.393454Z",
     "iopub.status.idle": "2025-10-01T20:00:50.002629Z",
     "shell.execute_reply": "2025-10-01T20:00:50.001434Z",
     "shell.execute_reply.started": "2025-10-01T20:00:49.393745Z"
    },
    "trusted": true
   },
   "outputs": [],
   "source": [
    "# curvature, speed limit, and number of reported accidents seem to be correlated with accident risk\n",
    "# there is also some correlation between curvature and the number of reported accidents\n",
    "sns.heatmap(train.corr(numeric_only=True), annot=True, cmap=\"coolwarm\", center=0, fmt=\".2f\",)  # annot=True shows values\n",
    "plt.show()"
   ]
  }
 ],
 "metadata": {
  "kaggle": {
   "accelerator": "none",
   "dataSources": [
    {
     "databundleVersionId": 13760552,
     "sourceId": 91721,
     "sourceType": "competition"
    }
   ],
   "dockerImageVersionId": 31089,
   "isGpuEnabled": false,
   "isInternetEnabled": true,
   "language": "python",
   "sourceType": "notebook"
  },
  "kernelspec": {
   "display_name": "accident-risk",
   "language": "python",
   "name": "python3"
  },
  "language_info": {
   "codemirror_mode": {
    "name": "ipython",
    "version": 3
   },
   "file_extension": ".py",
   "mimetype": "text/x-python",
   "name": "python",
   "nbconvert_exporter": "python",
   "pygments_lexer": "ipython3",
   "version": "3.10.17"
  }
 },
 "nbformat": 4,
 "nbformat_minor": 4
}
